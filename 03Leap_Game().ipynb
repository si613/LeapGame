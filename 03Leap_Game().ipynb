{
 "cells": [
  {
   "cell_type": "markdown",
   "id": "7d910f7c",
   "metadata": {},
   "source": [
    "## Leap Game"
   ]
  },
  {
   "cell_type": "markdown",
   "id": "78f07e33",
   "metadata": {},
   "source": [
    "Following the detailed solution in the file `02Frog_Leap_Solution.ipynb`, in this file, we will avoid printing the output after every loop iteration to avoid crowding and ensure the program runs more smoothly using the `clear_output` function"
   ]
  },
  {
   "cell_type": "code",
   "execution_count": 3,
   "id": "09b0c6f0",
   "metadata": {},
   "outputs": [],
   "source": [
    "from IPython.display import clear_output"
   ]
  },
  {
   "cell_type": "markdown",
   "id": "2f6a6af3",
   "metadata": {},
   "source": [
    "### Game Function\n",
    "\n",
    "Now we will put the python code for the leap game inside a function that can be called anytime to increase the efficiency of using the game. "
   ]
  },
  {
   "cell_type": "code",
   "execution_count": 4,
   "id": "5d366f32",
   "metadata": {},
   "outputs": [],
   "source": [
    "def Leap_Game():\n",
    "    positions = ['\\U0001F438', '\\U0001F438', '\\U0001F438', '\\U0001F4A5', '\\U0001F430', '\\U0001F430', '\\U0001F430']\n",
    "    print(\"[ 0 ,  1 ,  2 ,  3 ,  4 ,  5 ,  6 ]\")\n",
    "    print(positions)\n",
    "\n",
    "    while True:\n",
    "        player_move = input(\"Press 'q' to quit else \\nEnter the position (0-6) of the piece: \")\n",
    "\n",
    "        if player_move == 'q':\n",
    "            print(\"You LOSE!\")\n",
    "            break\n",
    "\n",
    "        player_move = int(player_move) \n",
    "\n",
    "        if player_move < 0 or player_move > 6:\n",
    "            print('Invalid Move! Try Again or press \"q\" to quit')\n",
    "            continue\n",
    "\n",
    "        if positions[player_move] == '\\U0001F4A5':\n",
    "            print('Invalid Move! Try Again or press \"q\" to quit')\n",
    "            continue\n",
    "\n",
    "        empty_leaf = 0\n",
    "\n",
    "        if positions[player_move] == '\\U0001F438':\n",
    "            \n",
    "            if player_move + 1 <= 6 and positions[player_move + 1] == '\\U0001F4A5':\n",
    "                empty_leaf = player_move + 1\n",
    "           \n",
    "            elif player_move + 2 <= 6 and positions[player_move + 2] == '\\U0001F4A5' and positions[player_move + 1] == '\\U0001F430':\n",
    "                empty_leaf = player_move + 2\n",
    "            \n",
    "            else:\n",
    "                print('Invalid Move! Try Again or press \"q\" to quit')\n",
    "                continue\n",
    "                \n",
    "        elif positions[player_move] == '\\U0001F430':\n",
    "            \n",
    "            if player_move - 1 >= 0 and positions[player_move - 1] == '\\U0001F4A5':\n",
    "                empty_leaf = player_move - 1\n",
    "            \n",
    "            elif player_move - 2 >= 0 and positions[player_move - 2] == '\\U0001F4A5' and positions[player_move - 1] == '\\U0001F438':\n",
    "                empty_leaf = player_move - 2\n",
    "            \n",
    "            else:\n",
    "                print('Invalid Move! Try Again or press \"q\" to quit')\n",
    "                continue\n",
    "\n",
    "        positions[player_move], positions[empty_leaf] = positions[empty_leaf], positions[player_move]\n",
    "\n",
    "        clear_output()\n",
    "        print(\"[ 0 , 1 , 2 , 3 , 4 , 5 , 6 ]\")\n",
    "        print(positions)\n",
    "\n",
    "        if positions == ['\\U0001F430', '\\U0001F430', '\\U0001F430', '\\U0001F4A5', '\\U0001F438', '\\U0001F438', '\\U0001F438']:\n",
    "            print('CONGRATULATIONS! YOU WIN!')\n",
    "            break\n",
    "\n"
   ]
  },
  {
   "cell_type": "code",
   "execution_count": 9,
   "id": "92e44d12",
   "metadata": {},
   "outputs": [
    {
     "name": "stdout",
     "output_type": "stream",
     "text": [
      "[ 0 ,  1 ,  2 ,  3 ,  4 ,  5 ,  6 ]\n",
      "['🐸', '🐸', '🐸', '💥', '🐰', '🐰', '🐰']\n",
      "Press 'q' to quit else \n",
      "Enter the position (0-6) of the piece: q\n",
      "You LOSE!\n"
     ]
    }
   ],
   "source": [
    "Leap_Game()"
   ]
  },
  {
   "cell_type": "code",
   "execution_count": 8,
   "id": "9afc5a65",
   "metadata": {},
   "outputs": [
    {
     "name": "stdout",
     "output_type": "stream",
     "text": [
      "[ 0 , 1 , 2 , 3 , 4 , 5 , 6 ]\n",
      "['🐸', '🐸', '🐰', '🐸', '🐰', '💥', '🐰']\n",
      "Press 'q' to quit else \n",
      "Enter the position (0-6) of the piece: q\n",
      "You LOSE!\n"
     ]
    }
   ],
   "source": [
    "Leap_Game()"
   ]
  },
  {
   "cell_type": "code",
   "execution_count": 6,
   "id": "3687760f",
   "metadata": {},
   "outputs": [
    {
     "name": "stdout",
     "output_type": "stream",
     "text": [
      "[ 0 , 1 , 2 , 3 , 4 , 5 , 6 ]\n",
      "['🐰', '🐰', '🐰', '💥', '🐸', '🐸', '🐸']\n",
      "CONGRATULATIONS! YOU WIN!\n"
     ]
    }
   ],
   "source": [
    "Leap_Game()"
   ]
  },
  {
   "cell_type": "code",
   "execution_count": null,
   "id": "c85a6994",
   "metadata": {},
   "outputs": [],
   "source": []
  }
 ],
 "metadata": {
  "kernelspec": {
   "display_name": "Python 3 (ipykernel)",
   "language": "python",
   "name": "python3"
  },
  "language_info": {
   "codemirror_mode": {
    "name": "ipython",
    "version": 3
   },
   "file_extension": ".py",
   "mimetype": "text/x-python",
   "name": "python",
   "nbconvert_exporter": "python",
   "pygments_lexer": "ipython3",
   "version": "3.10.9"
  }
 },
 "nbformat": 4,
 "nbformat_minor": 5
}
